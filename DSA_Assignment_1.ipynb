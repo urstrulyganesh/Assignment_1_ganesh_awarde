{
 "cells": [
  {
   "cell_type": "code",
   "execution_count": 35,
   "id": "692a8914-c0d0-4256-8409-e48f585f9fdc",
   "metadata": {},
   "outputs": [
    {
     "name": "stdout",
     "output_type": "stream",
     "text": [
      "[0, 1]\n"
     ]
    }
   ],
   "source": [
    "#Question 1:\n",
    "\n",
    "def two_sum(nums, target):\n",
    "    hash_table = {}\n",
    "    \n",
    "    # Iterate through the array of numbers\n",
    "    for i in range(len(nums)):\n",
    "        diff = target - nums[i]\n",
    "        if diff in hash_table:\n",
    "            return [hash_table[diff], i]\n",
    "        hash_table[nums[i]] = i\n",
    "    return []\n",
    "\n",
    "#Example:\n",
    "nums = [2, 7, 11, 15]\n",
    "target = 9\n",
    "result = two_sum(nums, target)\n",
    "print(result)  \n",
    "\n",
    "# Output: [0, 1]\n"
   ]
  },
  {
   "cell_type": "code",
   "execution_count": 34,
   "id": "13ac86a6-2429-41c5-ab62-c978ea4c3306",
   "metadata": {},
   "outputs": [
    {
     "name": "stdout",
     "output_type": "stream",
     "text": [
      "N = 2\n",
      "nums = [2, 2, 2, 3]\n"
     ]
    }
   ],
   "source": [
    "#Question 2:\n",
    "\n",
    "def remove_element(nums, val):\n",
    "    i = 0 \n",
    "    for j in range(len(nums)):\n",
    "        if nums[j] != val:\n",
    "            nums[i] = nums[j]\n",
    "            i += 1\n",
    "    return i\n",
    "\n",
    "#Example:\n",
    "nums = [3, 2, 2, 3]\n",
    "val = 3\n",
    "N = remove_element(nums, val)\n",
    "print(\"N =\", N)  # Output: 2\n",
    "print(\"nums =\", nums)  # Output: [2, 2, _, _]\n"
   ]
  },
  {
   "cell_type": "code",
   "execution_count": 33,
   "id": "1cc31e78-565f-487a-beb4-ee61544dc6a8",
   "metadata": {},
   "outputs": [
    {
     "name": "stdout",
     "output_type": "stream",
     "text": [
      "2\n"
     ]
    }
   ],
   "source": [
    "#Question 3:\n",
    "\n",
    "def search_Insert(nums, target):\n",
    "    left = 0\n",
    "    right = len(nums) - 1\n",
    "    \n",
    "    while left <= right:\n",
    "        mid = left + (right - left) // 2\n",
    "        \n",
    "        if nums[mid] == target:\n",
    "            return mid\n",
    "        elif nums[mid] > target:\n",
    "            right = mid - 1\n",
    "        else:\n",
    "            left = mid + 1\n",
    "    \n",
    "    return left\n",
    "\n",
    "#Example \n",
    "nums = [1, 3, 5, 6]\n",
    "target = 5\n",
    "index = search_Insert(nums, target)\n",
    "print(index)  \n",
    "\n",
    "#Output: 2\n",
    "\n"
   ]
  },
  {
   "cell_type": "code",
   "execution_count": 32,
   "id": "debb039a-4237-418b-a693-53435db41c0a",
   "metadata": {},
   "outputs": [
    {
     "name": "stdout",
     "output_type": "stream",
     "text": [
      "[1, 2, 4]\n",
      "[1, 2, 7]\n",
      "[1, 2, 3]\n"
     ]
    }
   ],
   "source": [
    "#Question 4:\n",
    "\n",
    "def plus_One(digits):\n",
    "    carry = 1  \n",
    "    n = len(digits)\n",
    "    \n",
    "    for i in range(n - 1, -1, -1):\n",
    "        sum = digits[i] + carry\n",
    "        digits[i] = sum % 10\n",
    "        carry = sum // 10\n",
    "    \n",
    "    if carry != 0:\n",
    "        digits.insert(0, carry)\n",
    "    \n",
    "    return digits\n",
    "\n",
    "# Example 1\n",
    "digits = [1, 2, 3]\n",
    "result = plus_One(digits)\n",
    "print(result) \n",
    "# Output: [1, 2, 4]\n",
    "\n",
    "# Example 2:\n",
    "digits2 = [1, 2, 6]\n",
    "result2 = plus_One(digits2)\n",
    "print(result2)\n",
    "# Output: [1, 2, 7]\n",
    "\n",
    "# Example 3:\n",
    "digits3 = [1, 2, 2]\n",
    "result3 = plus_One(digits3)\n",
    "print(result3)\n",
    "# Output: [1, 2, 3]\n",
    "\n"
   ]
  },
  {
   "cell_type": "code",
   "execution_count": 31,
   "id": "77cc1653-b918-45ff-bb23-174f5cf2f417",
   "metadata": {},
   "outputs": [
    {
     "name": "stdout",
     "output_type": "stream",
     "text": [
      "[1, 2, 2, 3, 5, 6]\n"
     ]
    }
   ],
   "source": [
    "#Question 5:\n",
    "\n",
    "def Merge(nums1, m, nums2, n):\n",
    "    p1 = m - 1\n",
    "    p2 = n - 1\n",
    "    p = m + n - 1\n",
    "    \n",
    "    while p1 >= 0 and p2 >= 0:\n",
    "        if nums1[p1] > nums2[p2]:\n",
    "            nums1[p] = nums1[p1]\n",
    "            p1 -= 1\n",
    "        else:\n",
    "            nums1[p] = nums2[p2]\n",
    "            p2 -= 1\n",
    "        p -= 1\n",
    "    \n",
    "    nums1[:p2 + 1] = nums2[:p2 + 1]\n",
    "    \n",
    "    return nums1\n",
    "\n",
    "# Example\n",
    "nums1 = [1, 2, 3, 0, 0, 0]\n",
    "m = 3\n",
    "nums2 = [2, 5, 6]\n",
    "n = 3\n",
    "result = Merge(nums1, m, nums2, n)\n",
    "print(result)  \n",
    "\n",
    "# Output: [1, 2, 2, 3, 5, 6]\n",
    "\n",
    "\n"
   ]
  },
  {
   "cell_type": "code",
   "execution_count": 30,
   "id": "4c6b79bf-f6bb-4aa8-9e7f-a762b219fd70",
   "metadata": {},
   "outputs": [
    {
     "name": "stdout",
     "output_type": "stream",
     "text": [
      "True\n",
      "False\n"
     ]
    }
   ],
   "source": [
    "#Question 6:\n",
    "def contain_Duplicate(nums):\n",
    "    seen = set()\n",
    "    for num in nums:\n",
    "        if num in seen:\n",
    "            return True\n",
    "        seen.add(num)\n",
    "    return False\n",
    "\n",
    "# Example1\n",
    "nums = [1, 2, 3, 1]\n",
    "result = contain_Duplicate(nums)\n",
    "print(result) \n",
    "# Output: True\n",
    "\n",
    "# Example2\n",
    "nums = [1, 2, 3, 7]\n",
    "result = contain_Duplicate(nums)\n",
    "print(result) \n",
    "# Output: True\n",
    "\n"
   ]
  },
  {
   "cell_type": "code",
   "execution_count": 29,
   "id": "292ebdf2-0ebf-4ec5-8210-de351482710e",
   "metadata": {},
   "outputs": [
    {
     "name": "stdout",
     "output_type": "stream",
     "text": [
      "[1, 3, 12, 0, 0]\n"
     ]
    }
   ],
   "source": [
    "#Question 7:\n",
    "\n",
    "def move_Zeroes(nums):\n",
    "    n = len(nums)\n",
    "    i = j = 0\n",
    "    \n",
    "    while i < n:\n",
    "        if nums[i] != 0:\n",
    "            nums[i], nums[j] = nums[j], nums[i]\n",
    "            j += 1\n",
    "        i += 1\n",
    "    \n",
    "    nums[j:] = [0] * (n - j)\n",
    "    return nums\n",
    "\n",
    "# Example\n",
    "nums = [0, 1, 0, 3, 12]\n",
    "result = move_Zeroes(nums)\n",
    "print(result)  \n"
   ]
  },
  {
   "cell_type": "code",
   "execution_count": 38,
   "id": "9dc897f0-bf8d-4118-9790-cc3e27ff6b19",
   "metadata": {},
   "outputs": [
    {
     "name": "stdout",
     "output_type": "stream",
     "text": [
      "[2, 3]\n"
     ]
    }
   ],
   "source": [
    "#Question 8:\n",
    "\n",
    "def findError(nums):\n",
    "    n = len(nums)\n",
    "    seen = set()\n",
    "    duplicate = -1\n",
    "    missing = -1\n",
    "    \n",
    "    for num in nums:\n",
    "        if num in seen:\n",
    "            duplicate = num\n",
    "        seen.add(num)\n",
    "    \n",
    "    for i in range(1, n + 1):\n",
    "        if i not in seen:\n",
    "            missing = i\n",
    "    \n",
    "    return [duplicate, missing]\n",
    "\n",
    "# Example\n",
    "nums = [1, 2, 2, 4]\n",
    "result = findError(nums)\n",
    "print(result)  \n",
    "# Output: [2, 3]\n"
   ]
  },
  {
   "cell_type": "code",
   "execution_count": null,
   "id": "a6b2b0de-c437-4005-92c6-5afecfa12f93",
   "metadata": {},
   "outputs": [],
   "source": []
  }
 ],
 "metadata": {
  "kernelspec": {
   "display_name": "Python 3 (ipykernel)",
   "language": "python",
   "name": "python3"
  },
  "language_info": {
   "codemirror_mode": {
    "name": "ipython",
    "version": 3
   },
   "file_extension": ".py",
   "mimetype": "text/x-python",
   "name": "python",
   "nbconvert_exporter": "python",
   "pygments_lexer": "ipython3",
   "version": "3.10.3"
  }
 },
 "nbformat": 4,
 "nbformat_minor": 5
}
