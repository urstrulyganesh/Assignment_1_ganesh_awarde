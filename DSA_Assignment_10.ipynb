{
 "cells": [
  {
   "cell_type": "code",
   "execution_count": 1,
   "id": "2a2d606e-5b4e-4952-bded-a59bc5eaf6ff",
   "metadata": {},
   "outputs": [
    {
     "name": "stdout",
     "output_type": "stream",
     "text": [
      "True\n",
      "False\n",
      "False\n"
     ]
    }
   ],
   "source": [
    "#Question 1:\n",
    "def isPowerOfThree(n):\n",
    "    if n <= 0:\n",
    "        return False\n",
    "    while n % 3 == 0:\n",
    "        n /= 3\n",
    "    return n == 1\n",
    "\n",
    "print(isPowerOfThree(27))  # Output: True\n",
    "print(isPowerOfThree(0))  # Output: False\n",
    "print(isPowerOfThree(-1))  # Output: False\n"
   ]
  },
  {
   "cell_type": "code",
   "execution_count": 2,
   "id": "ab444921-9d5b-45c7-bbff-ff2300296ff9",
   "metadata": {},
   "outputs": [
    {
     "name": "stdout",
     "output_type": "stream",
     "text": [
      "6\n",
      "1\n"
     ]
    }
   ],
   "source": [
    "#Question 2:\n",
    "def lastRemaining(n):\n",
    "    remaining = n\n",
    "    left_to_right = True\n",
    "    step = 1\n",
    "    start = 1\n",
    "\n",
    "    while remaining > 1:\n",
    "        if left_to_right or remaining % 2 == 1:\n",
    "            start += step\n",
    "\n",
    "        step *= 2\n",
    "        remaining //= 2\n",
    "        left_to_right = not left_to_right\n",
    "\n",
    "    return start\n",
    "\n",
    "# Testing the code with examples\n",
    "print(lastRemaining(9))  # Output: 6\n",
    "print(lastRemaining(1))  # Output: 1\n"
   ]
  },
  {
   "cell_type": "code",
   "execution_count": 5,
   "id": "11656ee9-b51c-4f0f-a898-86ab858117be",
   "metadata": {},
   "outputs": [
    {
     "name": "stdout",
     "output_type": "stream",
     "text": [
      "\n",
      "c\n",
      "b\n",
      "bc\n",
      "a\n",
      "ac\n",
      "ab\n",
      "abc\n",
      "\n",
      "d\n",
      "c\n",
      "cd\n",
      "b\n",
      "bd\n",
      "bc\n",
      "bcd\n",
      "a\n",
      "ad\n",
      "ac\n",
      "acd\n",
      "ab\n",
      "abd\n",
      "abc\n",
      "abcd\n"
     ]
    }
   ],
   "source": [
    "#Question 3:\n",
    "def printSubsets(set_str, subset='', index=0):\n",
    "    if index == len(set_str):\n",
    "        print(subset)\n",
    "        return\n",
    "\n",
    "    printSubsets(set_str, subset, index + 1)\n",
    "    printSubsets(set_str, subset + set_str[index], index + 1)\n",
    "\n",
    "\n",
    "\n",
    "printSubsets(\"abc\")  \n",
    "printSubsets(\"abcd\") "
   ]
  },
  {
   "cell_type": "code",
   "execution_count": 6,
   "id": "01f51d4e-d9a7-450b-af9f-7149e8b029bd",
   "metadata": {},
   "outputs": [
    {
     "name": "stdout",
     "output_type": "stream",
     "text": [
      "4\n",
      "13\n"
     ]
    }
   ],
   "source": [
    "#Question 4:\n",
    "def calculateLength(string):\n",
    "    if string == \"\":\n",
    "        return 0\n",
    "    return 1 + calculateLength(string[1:])\n",
    "\n",
    "\n",
    "# Testing the code with examples\n",
    "print(calculateLength(\"abcd\"))  # Output: 4\n",
    "print(calculateLength(\"GEEKSFORGEEKS\"))  # Output: 13\n"
   ]
  },
  {
   "cell_type": "code",
   "execution_count": 7,
   "id": "5b40a259-d730-4392-989a-21cccf17f35d",
   "metadata": {},
   "outputs": [
    {
     "name": "stdout",
     "output_type": "stream",
     "text": [
      "5\n",
      "3\n"
     ]
    }
   ],
   "source": [
    "#Question 5:\n",
    "def countContiguousSubstrings(s):\n",
    "    count = 0\n",
    "    n = len(s)\n",
    "\n",
    "    for i in range(n):\n",
    "        count += 1\n",
    "        j = i + 1\n",
    "        while j < n:\n",
    "            if s[j] == s[i]:\n",
    "                count += 1\n",
    "                j += 1\n",
    "            else:\n",
    "                break\n",
    "\n",
    "    return count\n",
    "\n",
    "print(countContiguousSubstrings(\"abcab\"))  # Output: 7\n",
    "print(countContiguousSubstrings(\"aba\"))  # Output: 4\n"
   ]
  },
  {
   "cell_type": "code",
   "execution_count": 9,
   "id": "b3ea71de-0012-419e-9b40-d2cc2077a1e8",
   "metadata": {},
   "outputs": [
    {
     "name": "stdout",
     "output_type": "stream",
     "text": [
      "cd\n",
      "dc\n",
      "abb\n",
      "abb\n",
      "bab\n",
      "bba\n",
      "bba\n",
      "bab\n"
     ]
    }
   ],
   "source": [
    "#Question 7:\n",
    "def permute(s, l, r):\n",
    "    if l == r:\n",
    "        print(''.join(s))\n",
    "    else:\n",
    "        for i in range(l, r + 1):\n",
    "            s[l], s[i] = s[i], s[l]  \n",
    "            permute(s, l + 1, r)\n",
    "            s[l], s[i] = s[i], s[l]  \n",
    "\n",
    "def printPermutations(str):\n",
    "    n = len(str)\n",
    "    s = list(str)\n",
    "    permute(s, 0, n - 1)\n",
    "\n",
    "str = \"cd\"\n",
    "printPermutations(str)\n",
    "\n",
    "str = \"abb\"\n",
    "printPermutations(str)\n"
   ]
  },
  {
   "cell_type": "code",
   "execution_count": 10,
   "id": "968fccba-1868-4390-a2b5-fa5c626dfc5b",
   "metadata": {},
   "outputs": [
    {
     "name": "stdout",
     "output_type": "stream",
     "text": [
      "3\n",
      "12\n"
     ]
    }
   ],
   "source": [
    "#Question 8:\n",
    "def countConsonants(string):\n",
    "    consonants = \"bcdfghjklmnpqrstvwxyzBCDFGHJKLMNPQRSTVWXYZ\"\n",
    "    count = 0\n",
    "    for char in string:\n",
    "        if char in consonants:\n",
    "            count += 1\n",
    "    return count\n",
    "string = \"abc de\"\n",
    "print(countConsonants(string))\n",
    "string = \"geeksforgeeks portal\"\n",
    "print(countConsonants(string))\n"
   ]
  },
  {
   "cell_type": "code",
   "execution_count": null,
   "id": "bca9447b-f26b-4e87-9dd5-c3a37ad4197a",
   "metadata": {},
   "outputs": [],
   "source": []
  }
 ],
 "metadata": {
  "kernelspec": {
   "display_name": "Python 3 (ipykernel)",
   "language": "python",
   "name": "python3"
  },
  "language_info": {
   "codemirror_mode": {
    "name": "ipython",
    "version": 3
   },
   "file_extension": ".py",
   "mimetype": "text/x-python",
   "name": "python",
   "nbconvert_exporter": "python",
   "pygments_lexer": "ipython3",
   "version": "3.10.3"
  }
 },
 "nbformat": 4,
 "nbformat_minor": 5
}
