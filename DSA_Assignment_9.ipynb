{
 "cells": [
  {
   "cell_type": "code",
   "execution_count": 1,
   "id": "b5c420e4-0de8-4f97-8984-96dfec234888",
   "metadata": {},
   "outputs": [],
   "source": [
    "#Question 1:\n",
    "\n",
    "def isPowerOfTwo(n):\n",
    "    if n <= 0:\n",
    "        return False\n",
    "    return (n & (n - 1)) == 0\n"
   ]
  },
  {
   "cell_type": "code",
   "execution_count": 2,
   "id": "d00c37b8-f659-44df-a187-2f6d884319b7",
   "metadata": {},
   "outputs": [
    {
     "name": "stdout",
     "output_type": "stream",
     "text": [
      "True\n",
      "True\n",
      "False\n"
     ]
    }
   ],
   "source": [
    "print(isPowerOfTwo(1))  # Output: True\n",
    "print(isPowerOfTwo(16))  # Output: True\n",
    "print(isPowerOfTwo(3))  # Output: False\n"
   ]
  },
  {
   "cell_type": "code",
   "execution_count": 5,
   "id": "c3f45f7e-25c5-4eb2-a283-64bd0bd5332c",
   "metadata": {},
   "outputs": [
    {
     "name": "stdout",
     "output_type": "stream",
     "text": [
      "6\n",
      "15\n",
      "36\n"
     ]
    }
   ],
   "source": [
    "#Question 2:\n",
    "\n",
    "def sumOfFirstN(n):\n",
    "    return (n * (n + 1)) // 2\n",
    "\n",
    "print(sumOfFirstN(3))  # Output: 6\n",
    "print(sumOfFirstN(5))  # Output: 15\n",
    "print(sumOfFirstN(8))\n",
    "\n",
    "\n"
   ]
  },
  {
   "cell_type": "code",
   "execution_count": 6,
   "id": "8e93cbe8-4a4f-4cff-8fee-dc0f227dcfa4",
   "metadata": {},
   "outputs": [
    {
     "name": "stdout",
     "output_type": "stream",
     "text": [
      "120\n",
      "24\n",
      "40320\n"
     ]
    }
   ],
   "source": [
    "#Question 3:\n",
    "def factorial(N):\n",
    "    result = 1\n",
    "    for i in range(1, N+1):\n",
    "        result *= i\n",
    "    return result\n",
    "print(factorial(5))  # Output: 120\n",
    "print(factorial(4))  # Output: 24\\\n",
    "print(factorial(8))\n"
   ]
  },
  {
   "cell_type": "code",
   "execution_count": 7,
   "id": "f971f195-d906-4e14-a6b7-049a0bfafe47",
   "metadata": {},
   "outputs": [
    {
     "name": "stdout",
     "output_type": "stream",
     "text": [
      "25\n",
      "32\n",
      "625\n"
     ]
    }
   ],
   "source": [
    "#Question 4:\n",
    "def exponentiation(N, P):\n",
    "    result = N ** P\n",
    "    return result\n",
    "print(exponentiation(5, 2))  # Output: 25\n",
    "print(exponentiation(2, 5))  # Output: 32\n",
    "print(exponentiation(25,2)) \n"
   ]
  },
  {
   "cell_type": "code",
   "execution_count": 8,
   "id": "f782026e-aabd-4435-a2f0-c33793999bbd",
   "metadata": {},
   "outputs": [
    {
     "name": "stdout",
     "output_type": "stream",
     "text": [
      "8\n",
      "45\n"
     ]
    }
   ],
   "source": [
    "#Question 2:\n",
    "def findMax(arr):\n",
    "    \n",
    "    if len(arr) == 1:\n",
    "        return arr[0]\n",
    "\n",
    "  \n",
    "    max_subarray = findMax(arr[1:])\n",
    "\n",
    "    \n",
    "    if arr[0] > max_subarray:\n",
    "        return arr[0]\n",
    "    else:\n",
    "        return max_subarray\n",
    "\n",
    "arr1 = [1, 4, 3, -5, -4, 8, 6]\n",
    "print(findMax(arr1))  # Output: 8\n",
    "\n",
    "arr2 = [1, 4, 45, 6, 10, -8]\n",
    "print(findMax(arr2))  # Output: 45\n"
   ]
  },
  {
   "cell_type": "code",
   "execution_count": 9,
   "id": "5a8ab07d-9897-482f-87ad-d5322b0b543f",
   "metadata": {},
   "outputs": [
    {
     "name": "stdout",
     "output_type": "stream",
     "text": [
      "6\n",
      "23\n"
     ]
    }
   ],
   "source": [
    "def findNthTerm(a, d, N):\n",
    "    if N == 1:\n",
    "        return a\n",
    "    else:\n",
    "        return findNthTerm(a + d, d, N - 1)\n",
    "print(findNthTerm(2, 1, 5))  # Output: 6\n",
    "print(findNthTerm(5, 2, 10))  # Output: 23\n"
   ]
  },
  {
   "cell_type": "code",
   "execution_count": 10,
   "id": "e5be0663-66be-4b43-af77-47dd272bf29c",
   "metadata": {},
   "outputs": [
    {
     "name": "stdout",
     "output_type": "stream",
     "text": [
      "ABC\n",
      "ACB\n",
      "BAC\n",
      "BCA\n",
      "CBA\n",
      "CAB\n",
      "XY\n",
      "YX\n"
     ]
    }
   ],
   "source": [
    "def permute(S, left, right):\n",
    "    if left == right:\n",
    "        print(''.join(S))\n",
    "    else:\n",
    "        for i in range(left, right + 1):\n",
    "            S[left], S[i] = S[i], S[left]  \n",
    "            permute(S, left + 1, right)  \n",
    "            S[left], S[i] = S[i], S[left]  \n",
    "\n",
    "def printPermutations(string):\n",
    "    n = len(string)\n",
    "    S = list(string)  \n",
    "    permute(S, 0, n - 1)\n",
    "\n",
    "printPermutations(\"ABC\")  # Output: ABC, ACB, BAC, BCA, CBA, CAB\n",
    "printPermutations(\"XY\")  # Output: XY, YX\n"
   ]
  },
  {
   "cell_type": "code",
   "execution_count": 11,
   "id": "3e0281d1-c151-4510-b03c-760b296bd6bb",
   "metadata": {},
   "outputs": [
    {
     "name": "stdout",
     "output_type": "stream",
     "text": [
      "120\n",
      "18\n"
     ]
    }
   ],
   "source": [
    "def findProduct(arr):\n",
    "    product = 1\n",
    "    for num in arr:\n",
    "        product *= num\n",
    "    return product\n",
    "arr1 = [1, 2, 3, 4, 5]\n",
    "print(findProduct(arr1))  # Output: 120\n",
    "\n",
    "arr2 = [1, 6, 3]\n",
    "print(findProduct(arr2))  # Output: 18\n"
   ]
  },
  {
   "cell_type": "code",
   "execution_count": null,
   "id": "fc78a2b5-0e72-4b5d-81ee-5e06323026fb",
   "metadata": {},
   "outputs": [],
   "source": []
  }
 ],
 "metadata": {
  "kernelspec": {
   "display_name": "Python 3 (ipykernel)",
   "language": "python",
   "name": "python3"
  },
  "language_info": {
   "codemirror_mode": {
    "name": "ipython",
    "version": 3
   },
   "file_extension": ".py",
   "mimetype": "text/x-python",
   "name": "python",
   "nbconvert_exporter": "python",
   "pygments_lexer": "ipython3",
   "version": "3.10.3"
  }
 },
 "nbformat": 4,
 "nbformat_minor": 5
}
