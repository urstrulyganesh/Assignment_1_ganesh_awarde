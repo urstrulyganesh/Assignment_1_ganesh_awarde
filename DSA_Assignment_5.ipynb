{
 "cells": [
  {
   "cell_type": "code",
   "execution_count": 1,
   "id": "a393cef4-8451-4cb5-b17b-994f62d44727",
   "metadata": {},
   "outputs": [
    {
     "name": "stdout",
     "output_type": "stream",
     "text": [
      "[[1, 2], [3, 4]]\n"
     ]
    }
   ],
   "source": [
    "#Question 1:\n",
    "\n",
    "def convert_to_2d(original, m, n):\n",
    "    if len(original) != m * n:\n",
    "        return []\n",
    "\n",
    "    result = []\n",
    "    for i in range(0, len(original), n):\n",
    "        result.append(original[i:i+n])\n",
    "\n",
    "    return result\n",
    "\n",
    "original = [1, 2, 3, 4]\n",
    "m = 2\n",
    "n = 2\n",
    "\n",
    "result = convert_to_2d(original, m, n)\n",
    "\n",
    "print(result)\n",
    "\n"
   ]
  },
  {
   "cell_type": "code",
   "execution_count": 2,
   "id": "b7d0d380-234e-4aec-aa37-6372505f9c80",
   "metadata": {},
   "outputs": [
    {
     "name": "stdout",
     "output_type": "stream",
     "text": [
      "2\n"
     ]
    }
   ],
   "source": [
    "#Question 2:\n",
    "\n",
    "def count_complete_rows(n):\n",
    "    left = 1\n",
    "    right = n\n",
    "\n",
    "    while left <= right:\n",
    "        mid = (left + right) // 2\n",
    "        total_coins = (mid * (mid + 1)) // 2\n",
    "\n",
    "        if total_coins <= n:\n",
    "            left = mid + 1\n",
    "        else:\n",
    "            right = mid - 1\n",
    "\n",
    "    return right\n",
    "\n",
    "n = 5\n",
    "result = count_complete_rows(n)\n",
    "\n",
    "print(result)\n",
    "\n"
   ]
  },
  {
   "cell_type": "code",
   "execution_count": 3,
   "id": "4d314a37-18a6-47a6-b145-a1a72f9576e6",
   "metadata": {},
   "outputs": [
    {
     "name": "stdout",
     "output_type": "stream",
     "text": [
      "[0, 1, 9, 16, 100]\n"
     ]
    }
   ],
   "source": [
    "#Question 3:\n",
    "\n",
    "def sorted_squares(nums):\n",
    "    left = 0\n",
    "    right = len(nums) - 1\n",
    "    result = []\n",
    "\n",
    "    while left <= right:\n",
    "        if abs(nums[left]) >= abs(nums[right]):\n",
    "            result.append(nums[left] ** 2)\n",
    "            left += 1\n",
    "        else:\n",
    "            result.append(nums[right] ** 2)\n",
    "            right -= 1\n",
    "\n",
    "    return result[::-1]\n",
    "\n",
    "#Example:\n",
    "nums = [-4, -1, 0, 3, 10]\n",
    "result = sorted_squares(nums)\n",
    "print(result)\n",
    "\n"
   ]
  },
  {
   "cell_type": "code",
   "execution_count": 4,
   "id": "d403fc8f-0de0-479b-8f64-c73d6ef7d4b5",
   "metadata": {},
   "outputs": [
    {
     "name": "stdout",
     "output_type": "stream",
     "text": [
      "[[1, 3], [4, 6]]\n"
     ]
    }
   ],
   "source": [
    "#Question 4:\n",
    "\n",
    "def disjoint_nums(nums1, nums2):\n",
    "    nums1_set = set(nums1)\n",
    "    nums2_set = set(nums2)\n",
    "\n",
    "    nums1_unique = set()\n",
    "    nums2_unique = set()\n",
    "\n",
    "    for num in nums1_set:\n",
    "        if num not in nums2_set:\n",
    "            nums1_unique.add(num)\n",
    "\n",
    "    for num in nums2_set:\n",
    "        if num not in nums1_set:\n",
    "            nums2_unique.add(num)\n",
    "\n",
    "    return [list(nums1_unique), list(nums2_unique)]\n",
    "\n",
    "#Example:\n",
    "\n",
    "nums1 = [1, 2, 3]\n",
    "nums2 = [2, 4, 6]\n",
    "result = disjoint_nums(nums1, nums2)\n",
    "print(result)\n"
   ]
  },
  {
   "cell_type": "code",
   "execution_count": 5,
   "id": "2722b5c9-37cd-4ca4-a3c8-599cade8b57d",
   "metadata": {},
   "outputs": [
    {
     "name": "stdout",
     "output_type": "stream",
     "text": [
      "2\n"
     ]
    }
   ],
   "source": [
    "#Question 5:\n",
    "\n",
    "def distance_value(arr1, arr2, d):\n",
    "    distance = 0\n",
    "    for num1 in arr1:\n",
    "        for num2 in arr2:\n",
    "            if abs(num1 - num2) <= d:\n",
    "                break\n",
    "        else:\n",
    "            distance += 1\n",
    "\n",
    "    return distance\n",
    "\n",
    "\n",
    "arr1 = [4, 5, 8]\n",
    "arr2 = [10, 9, 1, 8]\n",
    "d = 2\n",
    "result = distance_value(arr1, arr2, d)\n",
    "print(result)\n"
   ]
  },
  {
   "cell_type": "code",
   "execution_count": 6,
   "id": "3c3d2abb-3a23-44fa-a6d1-4b4cdb14a74d",
   "metadata": {},
   "outputs": [
    {
     "name": "stdout",
     "output_type": "stream",
     "text": [
      "[2, 3]\n",
      "[3, 3, 6]\n"
     ]
    }
   ],
   "source": [
    "#Question 6:\n",
    "\n",
    "def find_duplicates(nums):\n",
    "    result = []\n",
    "\n",
    "    for num in nums:\n",
    "        index = abs(num) - 1\n",
    "\n",
    "        if nums[index] > 0:\n",
    "            nums[index] *= -1\n",
    "        else:\n",
    "            result.append(abs(num))\n",
    "\n",
    "    return result\n",
    "#Example 1:\n",
    "nums = [4, 3, 2, 7, 8, 2, 3, 1]\n",
    "result = find_duplicates(nums)\n",
    "print(result)\n",
    "\n",
    "#Example 2:\n",
    "nums1 = [3,3,4,3,6,2,6]\n",
    "result1 = find_duplicates(nums1)\n",
    "print(result1)\n",
    "\n"
   ]
  },
  {
   "cell_type": "code",
   "execution_count": 7,
   "id": "1dd3da59-46cc-48bf-b5ae-297edff80632",
   "metadata": {},
   "outputs": [
    {
     "name": "stdout",
     "output_type": "stream",
     "text": [
      "1\n"
     ]
    }
   ],
   "source": [
    "#Question 7:\n",
    "\n",
    "def find_minimum(nums):\n",
    "    left = 0\n",
    "    right = len(nums) - 1\n",
    "\n",
    "    while left < right:\n",
    "        mid = (left + right) // 2\n",
    "\n",
    "        if nums[mid] > nums[right]:\n",
    "            left = mid + 1\n",
    "        else:\n",
    "            right = mid\n",
    "\n",
    "    return nums[left]\n",
    "\n",
    "nums = [3, 4, 5, 1, 2]\n",
    "result = find_minimum(nums)\n",
    "print(result)\n"
   ]
  },
  {
   "cell_type": "code",
   "execution_count": 10,
   "id": "fe2ded87-951e-4208-8885-dcd6e5516dee",
   "metadata": {},
   "outputs": [
    {
     "name": "stdout",
     "output_type": "stream",
     "text": [
      "[1, 3, 4]\n"
     ]
    }
   ],
   "source": [
    "#Question 8:\n",
    "def find_array(changed):\n",
    "    freq_map = {}\n",
    "\n",
    "    for num in changed:\n",
    "        freq_map[num] = freq_map.get(num, 0) + 1\n",
    "\n",
    "    original = []\n",
    "\n",
    "    for num in freq_map:\n",
    "        if freq_map[num] == 0:\n",
    "            continue\n",
    "        doubled_num = num * 2\n",
    "        if doubled_num not in freq_map or freq_map[doubled_num] == 0:\n",
    "            return []\n",
    "        freq_map[doubled_num] -= 1\n",
    "        original.extend([num] * freq_map[num])\n",
    "\n",
    "    return original\n",
    "\n",
    "\n",
    "changed = [1, 3, 4, 2, 6, 8]\n",
    "original = find_array(changed)\n",
    "print(original)\n"
   ]
  },
  {
   "cell_type": "code",
   "execution_count": null,
   "id": "43996c7a-671b-426a-be6c-09eb3e9f8515",
   "metadata": {},
   "outputs": [],
   "source": []
  }
 ],
 "metadata": {
  "kernelspec": {
   "display_name": "Python 3 (ipykernel)",
   "language": "python",
   "name": "python3"
  },
  "language_info": {
   "codemirror_mode": {
    "name": "ipython",
    "version": 3
   },
   "file_extension": ".py",
   "mimetype": "text/x-python",
   "name": "python",
   "nbconvert_exporter": "python",
   "pygments_lexer": "ipython3",
   "version": "3.10.3"
  }
 },
 "nbformat": 4,
 "nbformat_minor": 5
}
